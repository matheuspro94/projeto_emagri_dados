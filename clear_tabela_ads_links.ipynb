{
 "cells": [
  {
   "cell_type": "code",
   "execution_count": 11,
   "metadata": {},
   "outputs": [],
   "source": [
    "import pandas as pd\n",
    "import os"
   ]
  },
  {
   "cell_type": "code",
   "execution_count": 12,
   "metadata": {},
   "outputs": [],
   "source": [
    "df = pd.read_csv(\"./Dados/TabelaAdsLinks.csv\")"
   ]
  },
  {
   "cell_type": "code",
   "execution_count": 14,
   "metadata": {},
   "outputs": [],
   "source": [
    "# Dicionário de renomeação\n",
    "novos_nomes = {\n",
    "    'Unnamed: 0': 'adslinks_id',\n",
    "    'utmterm': 'anuncio',\n",
    "    'instagram_permalink_url': 'link_anuncio',\n",
    "}\n",
    "\n",
    "df.rename(columns=novos_nomes, inplace=True)"
   ]
  },
  {
   "cell_type": "code",
   "execution_count": 16,
   "metadata": {},
   "outputs": [],
   "source": [
    "df['anuncio'] = df['anuncio'].str.lower().str.capitalize()"
   ]
  },
  {
   "cell_type": "code",
   "execution_count": 19,
   "metadata": {},
   "outputs": [],
   "source": [
    "# Convertendo os tipos de dados\n",
    "df['anuncio'] = df['anuncio'].astype('string')\n",
    "df['link_anuncio'] = df['link_anuncio'].astype('string')"
   ]
  },
  {
   "cell_type": "code",
   "execution_count": 20,
   "metadata": {},
   "outputs": [
    {
     "name": "stdout",
     "output_type": "stream",
     "text": [
      "Arquivo salvo em: ./Dados_tratados\\TabelaAdsLinks_clear.csv\n"
     ]
    }
   ],
   "source": [
    "path_folder = './Dados_tratados'\n",
    "\n",
    "if not os.path.exists(path_folder):\n",
    "    os.makedirs(path_folder)\n",
    "\n",
    "path_file = os.path.join(path_folder, 'TabelaAdsLinks_clear.csv')\n",
    "\n",
    "df.to_csv(path_file, index=False)\n",
    "print(f\"Arquivo salvo em: {path_file}\")"
   ]
  }
 ],
 "metadata": {
  "kernelspec": {
   "display_name": "Python 3",
   "language": "python",
   "name": "python3"
  },
  "language_info": {
   "codemirror_mode": {
    "name": "ipython",
    "version": 3
   },
   "file_extension": ".py",
   "mimetype": "text/x-python",
   "name": "python",
   "nbconvert_exporter": "python",
   "pygments_lexer": "ipython3",
   "version": "3.11.9"
  }
 },
 "nbformat": 4,
 "nbformat_minor": 2
}
