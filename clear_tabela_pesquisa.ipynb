{
 "cells": [
  {
   "cell_type": "code",
   "execution_count": 1,
   "metadata": {},
   "outputs": [],
   "source": [
    "import pandas as pd\n",
    "import re\n",
    "import os"
   ]
  },
  {
   "cell_type": "code",
   "execution_count": 2,
   "metadata": {},
   "outputs": [],
   "source": [
    "df = pd.read_csv(\"./Dados/TabelaPesquisa.csv\")"
   ]
  },
  {
   "cell_type": "code",
   "execution_count": 3,
   "metadata": {},
   "outputs": [],
   "source": [
    "# Dicionário de renomeação\n",
    "novos_nomes = {\n",
    "    'Unnamed: 0': 'pesquisa_id',\n",
    "}\n",
    "\n",
    "df.rename(columns=novos_nomes, inplace=True)\n",
    "df.drop('Unnamed: 0.1', axis=1, inplace=True)\n",
    "df.drop_duplicates('email', inplace=True)"
   ]
  },
  {
   "cell_type": "code",
   "execution_count": 4,
   "metadata": {},
   "outputs": [
    {
     "name": "stdout",
     "output_type": "stream",
     "text": [
      "['Até 1.500 reais' 'Mais de 5.000 reais' 'De 1.500 a 3.000 reais'\n",
      " 'De 3.000 reais a 5.000 reais']\n"
     ]
    }
   ],
   "source": [
    "print(df['renda'].unique())"
   ]
  },
  {
   "cell_type": "code",
   "execution_count": 5,
   "metadata": {},
   "outputs": [],
   "source": [
    "def formatar_valor(valor):\n",
    "    # Corrigir erros comuns e aplicar formatação\n",
    "    valor = re.sub(r\"\\b(Ma[ii]s)\\b\", \"Mais\", valor)  # Corrigir \"Mais\" escrito incorretamente\n",
    "    valor = valor.replace(\"reais\", \"\").strip()\n",
    "    \n",
    "    # Adicionar \"R$\" adequadamente\n",
    "    valor = valor.replace(\"Até\", \"Até R$\") \\\n",
    "                 .replace(\"Mais de\", \"Mais de R$\") \\\n",
    "                 .replace(\"De\", \"De R$\") \\\n",
    "                 .replace(\" a \", \" a R$\")  # Corrigir espaços antes de \"a\"\n",
    "    \n",
    "    # Remover espaços adicionais ao redor de \"R$\" e entre valores\n",
    "    valor = re.sub(r\"\\s+R\\$\\s*\", \" R$\", valor)  # Remover espaços em excesso antes de \"R$\"\n",
    "    valor = re.sub(r\"\\s{2,}\", \" \", valor)  # Remover espaços duplos ou mais entre as palavras\n",
    "    \n",
    "    return valor\n",
    "\n",
    "# Aplicando a função de formatação novamente\n",
    "df['renda'] = df['renda'].apply(formatar_valor)"
   ]
  },
  {
   "cell_type": "code",
   "execution_count": 6,
   "metadata": {},
   "outputs": [],
   "source": [
    "# Dicionário com a ordem desejada para cada valor de \"tempo_me_conhece\"\n",
    "ordem_renda = {\n",
    "    'Até R$1.500': 1,\n",
    "    'De R$1.500 a R$3.000': 2,\n",
    "    'De R$3.000 a R$5.000': 3,\n",
    "    'Mais de R$5.000': 4\n",
    "}\n",
    "\n",
    "# Adicionando a coluna \"tempo_id\" ao dataframe com base no mapeamento\n",
    "df['renda_id'] = df['renda'].map(ordem_renda)"
   ]
  },
  {
   "cell_type": "code",
   "execution_count": 7,
   "metadata": {},
   "outputs": [],
   "source": [
    "mapa_tempo = {\n",
    "    \"Menos de 1 mês\": 1,\n",
    "    \"De 2 a 6 meses\": 2,\n",
    "    \"De 6 meses a 1 ano\": 3,\n",
    "    \"De 1 a 2 anos\": 4,\n",
    "    \"Mais de 2 anos\": 5\n",
    "}\n",
    "\n",
    "# Adiciona uma nova coluna 'tempo_id' com os IDs correspondentes\n",
    "df['tempo_id'] = df['tempo_me_conhece'].map(mapa_tempo)"
   ]
  },
  {
   "cell_type": "code",
   "execution_count": 8,
   "metadata": {},
   "outputs": [],
   "source": [
    "indice_idade = {\n",
    "    'até 20 anos': 1,\n",
    "    '21 a 25 anos': 2,\n",
    "    '26 a 30 anos': 3,\n",
    "    '31 a 35 anos': 4,\n",
    "    '36 a 40 anos': 5,\n",
    "    '41 a 45 anos': 6,\n",
    "    '46 a 50 anos': 7,\n",
    "    '51 a 55 anos': 8,\n",
    "    '56 a 60 anos': 9,\n",
    "    'acima de 60': 10\n",
    "}\n",
    "\n",
    "# Aplicando o mapeamento ao DataFrame\n",
    "df['idade_id'] = df['idade'].map(indice_idade)"
   ]
  },
  {
   "cell_type": "code",
   "execution_count": 9,
   "metadata": {},
   "outputs": [],
   "source": [
    "# Convertendo os tipos de dados\n",
    "df['email'] = df['email'].astype('string')\n",
    "df['idade'] = df['idade'].astype('string')\n",
    "df['renda'] = df['renda'].astype('string')\n",
    "df['tempo_me_conhece'] = df['tempo_me_conhece'].astype('string')"
   ]
  },
  {
   "cell_type": "code",
   "execution_count": 10,
   "metadata": {},
   "outputs": [
    {
     "name": "stdout",
     "output_type": "stream",
     "text": [
      "Arquivo salvo em: ./Dados_tratados\\TabelaPesquisa_clear.csv\n"
     ]
    }
   ],
   "source": [
    "path_folder = './Dados_tratados'\n",
    "\n",
    "if not os.path.exists(path_folder):\n",
    "    os.makedirs(path_folder)\n",
    "\n",
    "path_file = os.path.join(path_folder, 'TabelaPesquisa_clear.csv')\n",
    "\n",
    "df.to_csv(path_file, index=False)\n",
    "print(f\"Arquivo salvo em: {path_file}\")"
   ]
  }
 ],
 "metadata": {
  "kernelspec": {
   "display_name": "Python 3",
   "language": "python",
   "name": "python3"
  },
  "language_info": {
   "codemirror_mode": {
    "name": "ipython",
    "version": 3
   },
   "file_extension": ".py",
   "mimetype": "text/x-python",
   "name": "python",
   "nbconvert_exporter": "python",
   "pygments_lexer": "ipython3",
   "version": "3.11.9"
  }
 },
 "nbformat": 4,
 "nbformat_minor": 2
}
