{
 "cells": [
  {
   "cell_type": "code",
   "execution_count": 1,
   "metadata": {},
   "outputs": [],
   "source": [
    "import pandas as pd\n",
    "import os"
   ]
  },
  {
   "cell_type": "code",
   "execution_count": 2,
   "metadata": {},
   "outputs": [],
   "source": [
    "df = pd.read_csv(\"./Dados/TabelaPesquisaUTMs.csv\")"
   ]
  },
  {
   "cell_type": "code",
   "execution_count": 3,
   "metadata": {},
   "outputs": [],
   "source": [
    "# Dicionário de renomeação\n",
    "novos_nomes = {\n",
    "    'Unnamed: 0': 'utm_id',\n",
    "    'utmsource': 'canal_origem',\n",
    "    'utmterm': 'anuncio',\n",
    "    'utmmedium': 'publico',\n",
    "}\n",
    "\n",
    "df.rename(columns=novos_nomes, inplace=True)"
   ]
  },
  {
   "cell_type": "code",
   "execution_count": 4,
   "metadata": {},
   "outputs": [],
   "source": [
    "# Excluir uma coluna chamada ''Unnamed: 0.1'\n",
    "df.drop('Unnamed: 0.1', axis=1, inplace=True)"
   ]
  },
  {
   "cell_type": "code",
   "execution_count": 5,
   "metadata": {},
   "outputs": [
    {
     "name": "stdout",
     "output_type": "stream",
     "text": [
      "Removendo os colchetes de cada coluna especificada\n"
     ]
    }
   ],
   "source": [
    "colunas_para_limpar = ['canal_origem', 'anuncio', 'publico']\n",
    "\n",
    "for coluna in colunas_para_limpar:\n",
    "    df[coluna] = df[coluna].str.replace('[', '', regex=False).str.replace(']', '', regex=False).str.replace('{', '', regex=False).str.replace('}', '', regex=False)\n",
    "\n",
    "print(\"Removendo os colchetes de cada coluna especificada\")\n",
    "\n",
    "df['publico'] = df['publico'].str.replace('— Cópia', '', regex=False)\n",
    "\n",
    "# Removendo linhas onde 'anuncio' ou 'publico' contém 'ad.name' ou 'adset.name'\n",
    "df = df[~df['anuncio'].isin(['ad.name']) & ~df['publico'].isin(['adset.name'])]\n",
    "\n",
    "df['canal_origem'] = df['canal_origem'].str.lower().str.capitalize()\n",
    "df['anuncio'] = df['anuncio'].str.lower().str.capitalize()\n",
    "df['publico'] = df['publico'].str.lower().str.capitalize()"
   ]
  },
  {
   "cell_type": "code",
   "execution_count": 6,
   "metadata": {},
   "outputs": [],
   "source": [
    "# Convertendo os tipos de dados\n",
    "df['email'] = df['email'].astype('string')\n",
    "df['canal_origem'] = df['canal_origem'].astype('string')\n",
    "df['anuncio'] = df['anuncio'].astype('string')\n",
    "df['publico'] = df['publico'].astype('string')"
   ]
  },
  {
   "cell_type": "code",
   "execution_count": 7,
   "metadata": {},
   "outputs": [
    {
     "name": "stdout",
     "output_type": "stream",
     "text": [
      "Arquivo salvo em: ./Dados_tratados\\TabelaPesquisaUtm_clear.csv\n"
     ]
    }
   ],
   "source": [
    "path_folder = './Dados_tratados'\n",
    "\n",
    "if not os.path.exists(path_folder):\n",
    "    os.makedirs(path_folder)\n",
    "\n",
    "path_file = os.path.join(path_folder, 'TabelaPesquisaUtm_clear.csv')\n",
    "\n",
    "df.to_csv(path_file, index=False)\n",
    "print(f\"Arquivo salvo em: {path_file}\")"
   ]
  }
 ],
 "metadata": {
  "kernelspec": {
   "display_name": "Python 3",
   "language": "python",
   "name": "python3"
  },
  "language_info": {
   "codemirror_mode": {
    "name": "ipython",
    "version": 3
   },
   "file_extension": ".py",
   "mimetype": "text/x-python",
   "name": "python",
   "nbconvert_exporter": "python",
   "pygments_lexer": "ipython3",
   "version": "3.11.9"
  }
 },
 "nbformat": 4,
 "nbformat_minor": 2
}
