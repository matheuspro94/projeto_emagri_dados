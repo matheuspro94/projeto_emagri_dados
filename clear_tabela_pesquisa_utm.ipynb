{
 "cells": [
  {
   "cell_type": "code",
   "execution_count": 70,
   "metadata": {},
   "outputs": [],
   "source": [
    "import pandas as pd\n",
    "import os"
   ]
  },
  {
   "cell_type": "code",
   "execution_count": 71,
   "metadata": {},
   "outputs": [],
   "source": [
    "df = pd.read_csv(\"./Dados/TabelaPesquisaUTMs.csv\")"
   ]
  },
  {
   "cell_type": "code",
   "execution_count": 73,
   "metadata": {},
   "outputs": [],
   "source": [
    "# Dicionário de renomeação\n",
    "novos_nomes = {\n",
    "    'Unnamed: 0': 'utm_id',\n",
    "    'utmsource': 'canal_origem',\n",
    "    'utmterm': 'anuncio',\n",
    "    'utmmedium': 'publico',\n",
    "}\n",
    "\n",
    "df.rename(columns=novos_nomes, inplace=True)"
   ]
  },
  {
   "cell_type": "code",
   "execution_count": 74,
   "metadata": {},
   "outputs": [],
   "source": [
    "# Excluir uma coluna chamada ''Unnamed: 0.1'\n",
    "df.drop('Unnamed: 0.1', axis=1, inplace=True)"
   ]
  },
  {
   "cell_type": "code",
   "execution_count": 76,
   "metadata": {},
   "outputs": [
    {
     "name": "stdout",
     "output_type": "stream",
     "text": [
      "Removendo os colchetes de cada coluna especificada\n"
     ]
    },
    {
     "name": "stderr",
     "output_type": "stream",
     "text": [
      "C:\\Users\\PC\\AppData\\Local\\Temp\\ipykernel_6620\\1565636856.py:13: SettingWithCopyWarning: \n",
      "A value is trying to be set on a copy of a slice from a DataFrame.\n",
      "Try using .loc[row_indexer,col_indexer] = value instead\n",
      "\n",
      "See the caveats in the documentation: https://pandas.pydata.org/pandas-docs/stable/user_guide/indexing.html#returning-a-view-versus-a-copy\n",
      "  df['canal_origem'] = df['canal_origem'].str.lower().str.capitalize()\n",
      "C:\\Users\\PC\\AppData\\Local\\Temp\\ipykernel_6620\\1565636856.py:14: SettingWithCopyWarning: \n",
      "A value is trying to be set on a copy of a slice from a DataFrame.\n",
      "Try using .loc[row_indexer,col_indexer] = value instead\n",
      "\n",
      "See the caveats in the documentation: https://pandas.pydata.org/pandas-docs/stable/user_guide/indexing.html#returning-a-view-versus-a-copy\n",
      "  df['anuncio'] = df['anuncio'].str.lower().str.capitalize()\n",
      "C:\\Users\\PC\\AppData\\Local\\Temp\\ipykernel_6620\\1565636856.py:15: SettingWithCopyWarning: \n",
      "A value is trying to be set on a copy of a slice from a DataFrame.\n",
      "Try using .loc[row_indexer,col_indexer] = value instead\n",
      "\n",
      "See the caveats in the documentation: https://pandas.pydata.org/pandas-docs/stable/user_guide/indexing.html#returning-a-view-versus-a-copy\n",
      "  df['publico'] = df['publico'].str.lower().str.capitalize()\n"
     ]
    }
   ],
   "source": [
    "colunas_para_limpar = ['canal_origem', 'anuncio', 'publico']\n",
    "\n",
    "for coluna in colunas_para_limpar:\n",
    "    df[coluna] = df[coluna].str.replace('[', '', regex=False).str.replace(']', '', regex=False).str.replace('{', '', regex=False).str.replace('}', '', regex=False)\n",
    "\n",
    "print(\"Removendo os colchetes de cada coluna especificada\")\n",
    "\n",
    "df['publico'] = df['publico'].str.replace('— Cópia', '', regex=False)\n",
    "\n",
    "# Removendo linhas onde 'anuncio' ou 'publico' contém 'ad.name' ou 'adset.name'\n",
    "df = df[~df['anuncio'].isin(['ad.name']) & ~df['publico'].isin(['adset.name'])]\n",
    "\n",
    "df['canal_origem'] = df['canal_origem'].str.lower().str.capitalize()\n",
    "df['anuncio'] = df['anuncio'].str.lower().str.capitalize()\n",
    "df['publico'] = df['publico'].str.lower().str.capitalize()"
   ]
  },
  {
   "cell_type": "code",
   "execution_count": 77,
   "metadata": {},
   "outputs": [
    {
     "name": "stderr",
     "output_type": "stream",
     "text": [
      "C:\\Users\\PC\\AppData\\Local\\Temp\\ipykernel_6620\\2321703056.py:2: SettingWithCopyWarning: \n",
      "A value is trying to be set on a copy of a slice from a DataFrame.\n",
      "Try using .loc[row_indexer,col_indexer] = value instead\n",
      "\n",
      "See the caveats in the documentation: https://pandas.pydata.org/pandas-docs/stable/user_guide/indexing.html#returning-a-view-versus-a-copy\n",
      "  df['email'] = df['email'].astype('string')\n",
      "C:\\Users\\PC\\AppData\\Local\\Temp\\ipykernel_6620\\2321703056.py:3: SettingWithCopyWarning: \n",
      "A value is trying to be set on a copy of a slice from a DataFrame.\n",
      "Try using .loc[row_indexer,col_indexer] = value instead\n",
      "\n",
      "See the caveats in the documentation: https://pandas.pydata.org/pandas-docs/stable/user_guide/indexing.html#returning-a-view-versus-a-copy\n",
      "  df['canal_origem'] = df['canal_origem'].astype('string')\n",
      "C:\\Users\\PC\\AppData\\Local\\Temp\\ipykernel_6620\\2321703056.py:4: SettingWithCopyWarning: \n",
      "A value is trying to be set on a copy of a slice from a DataFrame.\n",
      "Try using .loc[row_indexer,col_indexer] = value instead\n",
      "\n",
      "See the caveats in the documentation: https://pandas.pydata.org/pandas-docs/stable/user_guide/indexing.html#returning-a-view-versus-a-copy\n",
      "  df['anuncio'] = df['anuncio'].astype('string')\n",
      "C:\\Users\\PC\\AppData\\Local\\Temp\\ipykernel_6620\\2321703056.py:5: SettingWithCopyWarning: \n",
      "A value is trying to be set on a copy of a slice from a DataFrame.\n",
      "Try using .loc[row_indexer,col_indexer] = value instead\n",
      "\n",
      "See the caveats in the documentation: https://pandas.pydata.org/pandas-docs/stable/user_guide/indexing.html#returning-a-view-versus-a-copy\n",
      "  df['publico'] = df['publico'].astype('string')\n"
     ]
    }
   ],
   "source": [
    "# Convertendo os tipos de dados\n",
    "df['email'] = df['email'].astype('string')\n",
    "df['canal_origem'] = df['canal_origem'].astype('string')\n",
    "df['anuncio'] = df['anuncio'].astype('string')\n",
    "df['publico'] = df['publico'].astype('string')"
   ]
  },
  {
   "cell_type": "code",
   "execution_count": 79,
   "metadata": {},
   "outputs": [
    {
     "name": "stdout",
     "output_type": "stream",
     "text": [
      "Arquivo salvo em: ./Dados_tratados\\TabelaPesquisaUtm_clear.csv\n"
     ]
    }
   ],
   "source": [
    "path_folder = './Dados_tratados'\n",
    "\n",
    "if not os.path.exists(path_folder):\n",
    "    os.makedirs(path_folder)\n",
    "\n",
    "path_file = os.path.join(path_folder, 'TabelaPesquisaUtm_clear.csv')\n",
    "\n",
    "df.to_csv(path_file, index=False)\n",
    "print(f\"Arquivo salvo em: {path_file}\")"
   ]
  }
 ],
 "metadata": {
  "kernelspec": {
   "display_name": "Python 3",
   "language": "python",
   "name": "python3"
  },
  "language_info": {
   "codemirror_mode": {
    "name": "ipython",
    "version": 3
   },
   "file_extension": ".py",
   "mimetype": "text/x-python",
   "name": "python",
   "nbconvert_exporter": "python",
   "pygments_lexer": "ipython3",
   "version": "3.11.9"
  }
 },
 "nbformat": 4,
 "nbformat_minor": 2
}
